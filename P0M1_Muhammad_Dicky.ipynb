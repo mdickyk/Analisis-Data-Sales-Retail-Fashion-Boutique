{
 "cells": [
  {
   "cell_type": "markdown",
   "id": "8e4046f2",
   "metadata": {},
   "source": [
    "# I. Introduction"
   ]
  },
  {
   "cell_type": "markdown",
   "id": "8162717b",
   "metadata": {},
   "source": [
    "=================================================\n",
    "\n",
    "Milestones 1\n",
    "\n",
    "\n",
    "Nama  : Muhammad Dicky Kurniawan\n",
    "\n",
    "Batch : HCK-031\n",
    "\n",
    "================================================="
   ]
  },
  {
   "cell_type": "markdown",
   "id": "60b19ad1",
   "metadata": {},
   "source": [
    "# II. Problem Statement and Dataset Description"
   ]
  },
  {
   "cell_type": "markdown",
   "id": "7caf9c26",
   "metadata": {},
   "source": [
    "## Metode SMART\n",
    "\n",
    "Spesific:\n",
    "\tMeningkatkan performa penjualan produk dan menurunkan tingkat pengembalian.\n",
    "\n",
    "Measureable:\n",
    "\tMeningkatkan penjualan bulanan sebesar 15% dan menurunkan tingkat pengembalian dari 19% menjadi di bawah 10%.\n",
    "\n",
    "Achievable:\n",
    "\tDengan memperbaiki strategi penjualan, target peningkatan penjualan sebesar 15% dan menurunkan tingkat pengembalian menjadi dibawah 10%  dalam waktu enam bulan dapat dilakukan secara efektif.\n",
    "\n",
    "Relevant:\n",
    "\tPeningkatan penjualan dan penurunan pengembalian akan berdampak langsung pada peningkatan profitabilitas, kepuasan pelanggan, dan posisi merek di pasar.\n",
    "\n",
    "Time-Bound:\n",
    "\tTarget ditetapkan selama 6 bulan ke depan dengan adanya evaluasi setiap bulan.\n",
    "\n",
    "Problem Statement :\n",
    "\tMenganalisa data penjualan produk untuk meningkatkan performa penjualan produk sebesar 15% dan menurunkan tingkat pengembalian  menjadi di bawah 10% dengan mengoptimalisasi strategi penjualan dalam waktu 6 bulan kedepan dengan adanya evaluasi setiap bulannya."
   ]
  },
  {
   "cell_type": "markdown",
   "id": "01f8bad3",
   "metadata": {},
   "source": [
    "## Latar Belakang\n",
    "\n",
    "Dalam industri fashion ritel modern, persaingan yang ketat menuntut perusahaan untuk mengambil keputusan bisnis secara cepat dan berbasis data. Tren fashion yang berubah dengan cepat,preferensi pelanggan yang dinamis, serta fluktuasi harga dan stok memaksa pelaku industri untuk memahami perilaku konsumen secara lebih mendalam agar tetap kompetitif.\n",
    "\n",
    "Data ini digunakan untuk menganalisa performa penjualan produk fashion berdasarkan kategori, merek, musim, ukuran, harga, dan perilaku pengembalian. Dengan memahami tren penjualan, perilaku pengembalian serta preferensi pelanggan, perusahaan dapat mengoptimalkan strategi pemasaran dan pengambilan keputusan yang lebih tepat untuk meningkatkan penjualan dan profitabilitas."
   ]
  },
  {
   "cell_type": "markdown",
   "id": "ef63c832",
   "metadata": {},
   "source": [
    "Sumber Dataset : https://www.kaggle.com/datasets/pratyushpuri/retail-fashion-boutique-data-sales-analytics-2025\n",
    "\n",
    "Dataset berisi data transaksi penjualan dan pengembalian produk dengan kolom berikut :\n",
    "1. product_id : ID unik setiap produk yang terjual.\n",
    "2. category : Kategori produk.\n",
    "3. brand : Nama merek produk.\n",
    "4. season : Musim penjualan produk.\n",
    "5. size : Ukuran Produk.\n",
    "6. color : Warna Produk.\n",
    "7. original_price : Harga awal produk sebelum diskon.\n",
    "8. markdown_percentage : Persentase diskon.\n",
    "9. current_price : Harga setelah diskon.\n",
    "10. purchase_date : Tanggal pembelian produk.\n",
    "11. stock_quantity : Jumlah stok tersedia ketika pembelian.\n",
    "12. customer_rating : Penilaian pelanggan terhadap suatu produk.\n",
    "13. is_returned : Status apakah produk dikembalikan.\n",
    "14. return_reason : Alasan pengembalian produk."
   ]
  },
  {
   "cell_type": "markdown",
   "id": "7f0e4b21",
   "metadata": {},
   "source": [
    "## Penjabaran Masalah - 5W1H :\n",
    "\n",
    "1. Apakah yang menyebabkan penurunan penjualan ?\n",
    "\n",
    "2. Apakah yang menyebabkan pengembalian produk tinggi?\n",
    "\n",
    "3. Apakah kategori produk tertentu memiliki performa penjualan yang lebih tinggi dibanding kategori lainnya?\n",
    "\n",
    "4. Apakah merek tertentu memiliki tingkat pengembalian produk yang lebih tinggi dibanding merek lain?\n",
    "\n",
    "5. Apakah ada pola musiman (seasonal trend) yang mempengaruhi penjualan dan pengembalian produk?\n",
    "\n",
    "6. Berapa produk yang memiliki harga jauh di luar kisaran normal?\n",
    "\n",
    "7. Bagaimana cara memanfaatkan data penjualan untuk mengoptimalkan strategi pemasaran, manajemen stok, dan pengambilan keputusan produk?"
   ]
  },
  {
   "cell_type": "markdown",
   "id": "6299b88b",
   "metadata": {},
   "source": [
    "# III. Data Loading"
   ]
  },
  {
   "cell_type": "code",
   "execution_count": null,
   "id": "53b89ead",
   "metadata": {},
   "outputs": [],
   "source": [
    "# Mengimport package yang diperlukan untuk analisis ini\n",
    "import pandas as pd\n",
    "import numpy as np\n",
    "import matplotlib.pyplot as plt\n",
    "import seaborn as sns\n",
    "from scipy import stats\n",
    "import calendar"
   ]
  },
  {
   "cell_type": "code",
   "execution_count": 44,
   "id": "93e0317f",
   "metadata": {},
   "outputs": [
    {
     "data": {
      "text/html": [
       "<div>\n",
       "<style scoped>\n",
       "    .dataframe tbody tr th:only-of-type {\n",
       "        vertical-align: middle;\n",
       "    }\n",
       "\n",
       "    .dataframe tbody tr th {\n",
       "        vertical-align: top;\n",
       "    }\n",
       "\n",
       "    .dataframe thead th {\n",
       "        text-align: right;\n",
       "    }\n",
       "</style>\n",
       "<table border=\"1\" class=\"dataframe\">\n",
       "  <thead>\n",
       "    <tr style=\"text-align: right;\">\n",
       "      <th></th>\n",
       "      <th>product_id</th>\n",
       "      <th>category</th>\n",
       "      <th>brand</th>\n",
       "      <th>season</th>\n",
       "      <th>size</th>\n",
       "      <th>color</th>\n",
       "      <th>original_price</th>\n",
       "      <th>markdown_percentage</th>\n",
       "      <th>current_price</th>\n",
       "      <th>purchase_date</th>\n",
       "      <th>stock_quantity</th>\n",
       "      <th>customer_rating</th>\n",
       "      <th>is_returned</th>\n",
       "      <th>return_reason</th>\n",
       "    </tr>\n",
       "  </thead>\n",
       "  <tbody>\n",
       "    <tr>\n",
       "      <th>0</th>\n",
       "      <td>FB000001</td>\n",
       "      <td>Outerwear</td>\n",
       "      <td>Zara</td>\n",
       "      <td>Spring</td>\n",
       "      <td>XL</td>\n",
       "      <td>Red</td>\n",
       "      <td>196.01</td>\n",
       "      <td>0.0</td>\n",
       "      <td>196.01</td>\n",
       "      <td>2025-07-05</td>\n",
       "      <td>37</td>\n",
       "      <td>3.0</td>\n",
       "      <td>False</td>\n",
       "      <td>NaN</td>\n",
       "    </tr>\n",
       "    <tr>\n",
       "      <th>1</th>\n",
       "      <td>FB000002</td>\n",
       "      <td>Tops</td>\n",
       "      <td>Uniqlo</td>\n",
       "      <td>Winter</td>\n",
       "      <td>L</td>\n",
       "      <td>Pink</td>\n",
       "      <td>119.64</td>\n",
       "      <td>0.0</td>\n",
       "      <td>119.64</td>\n",
       "      <td>2025-08-06</td>\n",
       "      <td>2</td>\n",
       "      <td>2.5</td>\n",
       "      <td>False</td>\n",
       "      <td>NaN</td>\n",
       "    </tr>\n",
       "    <tr>\n",
       "      <th>2</th>\n",
       "      <td>FB000003</td>\n",
       "      <td>Accessories</td>\n",
       "      <td>Uniqlo</td>\n",
       "      <td>Winter</td>\n",
       "      <td>NaN</td>\n",
       "      <td>Black</td>\n",
       "      <td>33.80</td>\n",
       "      <td>0.0</td>\n",
       "      <td>33.80</td>\n",
       "      <td>2025-08-06</td>\n",
       "      <td>22</td>\n",
       "      <td>4.3</td>\n",
       "      <td>False</td>\n",
       "      <td>NaN</td>\n",
       "    </tr>\n",
       "    <tr>\n",
       "      <th>3</th>\n",
       "      <td>FB000004</td>\n",
       "      <td>Shoes</td>\n",
       "      <td>Uniqlo</td>\n",
       "      <td>Spring</td>\n",
       "      <td>XL</td>\n",
       "      <td>Black</td>\n",
       "      <td>75.36</td>\n",
       "      <td>0.0</td>\n",
       "      <td>75.36</td>\n",
       "      <td>2025-07-07</td>\n",
       "      <td>48</td>\n",
       "      <td>2.6</td>\n",
       "      <td>False</td>\n",
       "      <td>NaN</td>\n",
       "    </tr>\n",
       "    <tr>\n",
       "      <th>4</th>\n",
       "      <td>FB000005</td>\n",
       "      <td>Tops</td>\n",
       "      <td>Banana Republic</td>\n",
       "      <td>Winter</td>\n",
       "      <td>XL</td>\n",
       "      <td>Black</td>\n",
       "      <td>105.02</td>\n",
       "      <td>0.0</td>\n",
       "      <td>105.02</td>\n",
       "      <td>2025-08-06</td>\n",
       "      <td>10</td>\n",
       "      <td>NaN</td>\n",
       "      <td>False</td>\n",
       "      <td>NaN</td>\n",
       "    </tr>\n",
       "    <tr>\n",
       "      <th>...</th>\n",
       "      <td>...</td>\n",
       "      <td>...</td>\n",
       "      <td>...</td>\n",
       "      <td>...</td>\n",
       "      <td>...</td>\n",
       "      <td>...</td>\n",
       "      <td>...</td>\n",
       "      <td>...</td>\n",
       "      <td>...</td>\n",
       "      <td>...</td>\n",
       "      <td>...</td>\n",
       "      <td>...</td>\n",
       "      <td>...</td>\n",
       "      <td>...</td>\n",
       "    </tr>\n",
       "    <tr>\n",
       "      <th>2171</th>\n",
       "      <td>FB002172</td>\n",
       "      <td>Tops</td>\n",
       "      <td>Mango</td>\n",
       "      <td>Summer</td>\n",
       "      <td>XL</td>\n",
       "      <td>Black</td>\n",
       "      <td>31.41</td>\n",
       "      <td>0.0</td>\n",
       "      <td>31.41</td>\n",
       "      <td>2025-08-06</td>\n",
       "      <td>10</td>\n",
       "      <td>2.1</td>\n",
       "      <td>False</td>\n",
       "      <td>NaN</td>\n",
       "    </tr>\n",
       "    <tr>\n",
       "      <th>2172</th>\n",
       "      <td>FB002173</td>\n",
       "      <td>Dresses</td>\n",
       "      <td>Banana Republic</td>\n",
       "      <td>Winter</td>\n",
       "      <td>L</td>\n",
       "      <td>Brown</td>\n",
       "      <td>50.58</td>\n",
       "      <td>0.0</td>\n",
       "      <td>50.58</td>\n",
       "      <td>2025-08-06</td>\n",
       "      <td>1</td>\n",
       "      <td>3.1</td>\n",
       "      <td>True</td>\n",
       "      <td>Changed Mind</td>\n",
       "    </tr>\n",
       "    <tr>\n",
       "      <th>2173</th>\n",
       "      <td>FB002174</td>\n",
       "      <td>Accessories</td>\n",
       "      <td>Banana Republic</td>\n",
       "      <td>Winter</td>\n",
       "      <td>NaN</td>\n",
       "      <td>Beige</td>\n",
       "      <td>79.37</td>\n",
       "      <td>54.8</td>\n",
       "      <td>35.88</td>\n",
       "      <td>2025-08-06</td>\n",
       "      <td>40</td>\n",
       "      <td>2.6</td>\n",
       "      <td>False</td>\n",
       "      <td>NaN</td>\n",
       "    </tr>\n",
       "    <tr>\n",
       "      <th>2174</th>\n",
       "      <td>FB002175</td>\n",
       "      <td>Bottoms</td>\n",
       "      <td>Ann Taylor</td>\n",
       "      <td>Summer</td>\n",
       "      <td>XL</td>\n",
       "      <td>Pink</td>\n",
       "      <td>105.52</td>\n",
       "      <td>0.0</td>\n",
       "      <td>105.52</td>\n",
       "      <td>2025-08-06</td>\n",
       "      <td>20</td>\n",
       "      <td>4.9</td>\n",
       "      <td>True</td>\n",
       "      <td>Size Issue</td>\n",
       "    </tr>\n",
       "    <tr>\n",
       "      <th>2175</th>\n",
       "      <td>FB002176</td>\n",
       "      <td>Shoes</td>\n",
       "      <td>Ann Taylor</td>\n",
       "      <td>Summer</td>\n",
       "      <td>XXL</td>\n",
       "      <td>White</td>\n",
       "      <td>154.02</td>\n",
       "      <td>0.0</td>\n",
       "      <td>154.02</td>\n",
       "      <td>2025-08-06</td>\n",
       "      <td>23</td>\n",
       "      <td>1.3</td>\n",
       "      <td>False</td>\n",
       "      <td>NaN</td>\n",
       "    </tr>\n",
       "  </tbody>\n",
       "</table>\n",
       "<p>2176 rows × 14 columns</p>\n",
       "</div>"
      ],
      "text/plain": [
       "     product_id     category            brand  season size  color  \\\n",
       "0      FB000001    Outerwear             Zara  Spring   XL    Red   \n",
       "1      FB000002         Tops           Uniqlo  Winter    L   Pink   \n",
       "2      FB000003  Accessories           Uniqlo  Winter  NaN  Black   \n",
       "3      FB000004        Shoes           Uniqlo  Spring   XL  Black   \n",
       "4      FB000005         Tops  Banana Republic  Winter   XL  Black   \n",
       "...         ...          ...              ...     ...  ...    ...   \n",
       "2171   FB002172         Tops            Mango  Summer   XL  Black   \n",
       "2172   FB002173      Dresses  Banana Republic  Winter    L  Brown   \n",
       "2173   FB002174  Accessories  Banana Republic  Winter  NaN  Beige   \n",
       "2174   FB002175      Bottoms       Ann Taylor  Summer   XL   Pink   \n",
       "2175   FB002176        Shoes       Ann Taylor  Summer  XXL  White   \n",
       "\n",
       "      original_price  markdown_percentage  current_price purchase_date  \\\n",
       "0             196.01                  0.0         196.01    2025-07-05   \n",
       "1             119.64                  0.0         119.64    2025-08-06   \n",
       "2              33.80                  0.0          33.80    2025-08-06   \n",
       "3              75.36                  0.0          75.36    2025-07-07   \n",
       "4             105.02                  0.0         105.02    2025-08-06   \n",
       "...              ...                  ...            ...           ...   \n",
       "2171           31.41                  0.0          31.41    2025-08-06   \n",
       "2172           50.58                  0.0          50.58    2025-08-06   \n",
       "2173           79.37                 54.8          35.88    2025-08-06   \n",
       "2174          105.52                  0.0         105.52    2025-08-06   \n",
       "2175          154.02                  0.0         154.02    2025-08-06   \n",
       "\n",
       "      stock_quantity  customer_rating  is_returned return_reason  \n",
       "0                 37              3.0        False           NaN  \n",
       "1                  2              2.5        False           NaN  \n",
       "2                 22              4.3        False           NaN  \n",
       "3                 48              2.6        False           NaN  \n",
       "4                 10              NaN        False           NaN  \n",
       "...              ...              ...          ...           ...  \n",
       "2171              10              2.1        False           NaN  \n",
       "2172               1              3.1         True  Changed Mind  \n",
       "2173              40              2.6        False           NaN  \n",
       "2174              20              4.9         True    Size Issue  \n",
       "2175              23              1.3        False           NaN  \n",
       "\n",
       "[2176 rows x 14 columns]"
      ]
     },
     "execution_count": 44,
     "metadata": {},
     "output_type": "execute_result"
    }
   ],
   "source": [
    "# Memasukkan data csv ke DataFrame\n",
    "df = pd.read_csv(\"P0M1_Muhammad_Dicky_dataset.csv\")\n",
    "df"
   ]
  },
  {
   "cell_type": "code",
   "execution_count": 45,
   "id": "c6d41508",
   "metadata": {},
   "outputs": [
    {
     "name": "stdout",
     "output_type": "stream",
     "text": [
      "<class 'pandas.core.frame.DataFrame'>\n",
      "RangeIndex: 2176 entries, 0 to 2175\n",
      "Data columns (total 14 columns):\n",
      " #   Column               Non-Null Count  Dtype  \n",
      "---  ------               --------------  -----  \n",
      " 0   product_id           2176 non-null   object \n",
      " 1   category             2176 non-null   object \n",
      " 2   brand                2176 non-null   object \n",
      " 3   season               2176 non-null   object \n",
      " 4   size                 1685 non-null   object \n",
      " 5   color                2176 non-null   object \n",
      " 6   original_price       2176 non-null   float64\n",
      " 7   markdown_percentage  2176 non-null   float64\n",
      " 8   current_price        2176 non-null   float64\n",
      " 9   purchase_date        2176 non-null   object \n",
      " 10  stock_quantity       2176 non-null   int64  \n",
      " 11  customer_rating      1814 non-null   float64\n",
      " 12  is_returned          2176 non-null   bool   \n",
      " 13  return_reason        320 non-null    object \n",
      "dtypes: bool(1), float64(4), int64(1), object(8)\n",
      "memory usage: 223.2+ KB\n"
     ]
    }
   ],
   "source": [
    "df.info()"
   ]
  },
  {
   "cell_type": "markdown",
   "id": "924fa776",
   "metadata": {},
   "source": [
    "Dari df.info() dapat didapatkan :\n",
    "1. Banyak data 2176 entry\n",
    "2. Terdapat 14 kolom\n",
    "3. Type data tiap kolom\n",
    "4. Jumlah data terisi (bukan null)\n",
    "5. Size dari dataframe"
   ]
  },
  {
   "cell_type": "code",
   "execution_count": 46,
   "id": "0c4bbc72",
   "metadata": {},
   "outputs": [
    {
     "data": {
      "text/plain": [
       "product_id                0\n",
       "category                  0\n",
       "brand                     0\n",
       "season                    0\n",
       "size                    491\n",
       "color                     0\n",
       "original_price            0\n",
       "markdown_percentage       0\n",
       "current_price             0\n",
       "purchase_date             0\n",
       "stock_quantity            0\n",
       "customer_rating         362\n",
       "is_returned               0\n",
       "return_reason          1856\n",
       "dtype: int64"
      ]
     },
     "execution_count": 46,
     "metadata": {},
     "output_type": "execute_result"
    }
   ],
   "source": [
    "df.isnull().sum()"
   ]
  },
  {
   "cell_type": "markdown",
   "id": "f5490fee",
   "metadata": {},
   "source": [
    "Masih ada missing value pada kolom size, customer_rating dan return_season dan harus dilakukan data cleaning."
   ]
  },
  {
   "cell_type": "markdown",
   "id": "0013f113",
   "metadata": {},
   "source": [
    "# IV. Data Cleaning"
   ]
  },
  {
   "cell_type": "markdown",
   "id": "ffdd1c16",
   "metadata": {},
   "source": [
    "Tahap ini mempersiapkan pembersihan dataset sebelum di analisis seperti:\n",
    "1. Menangani missing value\n",
    "2. Konversi tipe data "
   ]
  },
  {
   "cell_type": "code",
   "execution_count": 47,
   "id": "20a6e414",
   "metadata": {},
   "outputs": [
    {
     "name": "stderr",
     "output_type": "stream",
     "text": [
      "C:\\Users\\ASUS\\AppData\\Local\\Temp\\ipykernel_17548\\1187870852.py:2: FutureWarning: A value is trying to be set on a copy of a DataFrame or Series through chained assignment using an inplace method.\n",
      "The behavior will change in pandas 3.0. This inplace method will never work because the intermediate object on which we are setting values always behaves as a copy.\n",
      "\n",
      "For example, when doing 'df[col].method(value, inplace=True)', try using 'df.method({col: value}, inplace=True)' or df[col] = df[col].method(value) instead, to perform the operation inplace on the original object.\n",
      "\n",
      "\n",
      "  df['customer_rating'].fillna(df['customer_rating'].median(), inplace=True)\n",
      "C:\\Users\\ASUS\\AppData\\Local\\Temp\\ipykernel_17548\\1187870852.py:5: FutureWarning: A value is trying to be set on a copy of a DataFrame or Series through chained assignment using an inplace method.\n",
      "The behavior will change in pandas 3.0. This inplace method will never work because the intermediate object on which we are setting values always behaves as a copy.\n",
      "\n",
      "For example, when doing 'df[col].method(value, inplace=True)', try using 'df.method({col: value}, inplace=True)' or df[col] = df[col].method(value) instead, to perform the operation inplace on the original object.\n",
      "\n",
      "\n",
      "  df['size'].fillna('All Size', inplace=True)\n",
      "C:\\Users\\ASUS\\AppData\\Local\\Temp\\ipykernel_17548\\1187870852.py:8: FutureWarning: A value is trying to be set on a copy of a DataFrame or Series through chained assignment using an inplace method.\n",
      "The behavior will change in pandas 3.0. This inplace method will never work because the intermediate object on which we are setting values always behaves as a copy.\n",
      "\n",
      "For example, when doing 'df[col].method(value, inplace=True)', try using 'df.method({col: value}, inplace=True)' or df[col] = df[col].method(value) instead, to perform the operation inplace on the original object.\n",
      "\n",
      "\n",
      "  df['return_reason'].fillna('No Return', inplace=True)\n"
     ]
    },
    {
     "data": {
      "text/plain": [
       "product_id             0\n",
       "category               0\n",
       "brand                  0\n",
       "season                 0\n",
       "size                   0\n",
       "color                  0\n",
       "original_price         0\n",
       "markdown_percentage    0\n",
       "current_price          0\n",
       "purchase_date          0\n",
       "stock_quantity         0\n",
       "customer_rating        0\n",
       "is_returned            0\n",
       "return_reason          0\n",
       "dtype: int64"
      ]
     },
     "execution_count": 47,
     "metadata": {},
     "output_type": "execute_result"
    }
   ],
   "source": [
    "# 1. Isi missing value pada customer_rating dengan median\n",
    "df['customer_rating'].fillna(df['customer_rating'].median(), inplace=True)\n",
    "\n",
    "# 2. Isi missing value pada size dengan 'All Size'\n",
    "df['size'].fillna('All Size', inplace=True)\n",
    "\n",
    "# 3. Isi missing value pada return_reason dengan 'No Return'\n",
    "df['return_reason'].fillna('No Return', inplace=True)\n",
    "\n",
    "df.isnull().sum()"
   ]
  },
  {
   "cell_type": "code",
   "execution_count": 48,
   "id": "046c50e3",
   "metadata": {},
   "outputs": [
    {
     "name": "stdout",
     "output_type": "stream",
     "text": [
      "<class 'pandas.core.frame.DataFrame'>\n",
      "RangeIndex: 2176 entries, 0 to 2175\n",
      "Data columns (total 14 columns):\n",
      " #   Column               Non-Null Count  Dtype         \n",
      "---  ------               --------------  -----         \n",
      " 0   product_id           2176 non-null   object        \n",
      " 1   category             2176 non-null   object        \n",
      " 2   brand                2176 non-null   object        \n",
      " 3   season               2176 non-null   object        \n",
      " 4   size                 2176 non-null   object        \n",
      " 5   color                2176 non-null   object        \n",
      " 6   original_price       2176 non-null   float64       \n",
      " 7   markdown_percentage  2176 non-null   float64       \n",
      " 8   current_price        2176 non-null   float64       \n",
      " 9   purchase_date        2176 non-null   datetime64[ns]\n",
      " 10  stock_quantity       2176 non-null   int64         \n",
      " 11  customer_rating      2176 non-null   float64       \n",
      " 12  is_returned          2176 non-null   bool          \n",
      " 13  return_reason        2176 non-null   object        \n",
      "dtypes: bool(1), datetime64[ns](1), float64(4), int64(1), object(7)\n",
      "memory usage: 223.2+ KB\n"
     ]
    }
   ],
   "source": [
    "# Ubah tipe tanggal\n",
    "df['purchase_date'] = pd.to_datetime(df['purchase_date'])\n",
    "\n",
    "df.info()"
   ]
  },
  {
   "cell_type": "markdown",
   "id": "06aeac0f",
   "metadata": {},
   "source": [
    "Dengan data cleaning maka tidak ada lagi missing value dan type data sudah disesuaikan."
   ]
  },
  {
   "cell_type": "markdown",
   "id": "7b8c856a",
   "metadata": {},
   "source": [
    "# V. Exploration and Analysis"
   ]
  },
  {
   "cell_type": "markdown",
   "id": "48ffd8c3",
   "metadata": {},
   "source": [
    "## 1. Tren Penjualan Bulanan"
   ]
  },
  {
   "cell_type": "code",
   "execution_count": 49,
   "id": "f2c4021d",
   "metadata": {},
   "outputs": [
    {
     "data": {
      "image/png": "[encoded data removed]",
      "text/plain": [
       "<Figure size 900x500 with 1 Axes>"
      ]
     },
     "metadata": {},
     "output_type": "display_data"
    }
   ],
   "source": [
    "# Penjualan per bulan (jumlah transaksi) dengan format Bulan - Tahun\n",
    "monthly_sales = df.groupby(df['purchase_date'].dt.to_period('M'))['product_id'].count().sort_index()\n",
    "\n",
    "# Ubah index menjadi format Bulan - Tahun\n",
    "monthly_sales.index = monthly_sales.index.to_timestamp().strftime('%b-%Y')\n",
    "\n",
    "plt.figure(figsize=(9,5))\n",
    "plt.plot(monthly_sales.index, monthly_sales.values, marker='o')\n",
    "plt.title('Tren Penjualan Bulanan')\n",
    "plt.xlabel('Bulan')\n",
    "plt.ylabel('Jumlah Transaksi')\n",
    "plt.xticks(rotation=45)\n",
    "plt.show()"
   ]
  },
  {
   "cell_type": "markdown",
   "id": "63c9ab22",
   "metadata": {},
   "source": [
    "\n",
    "Penjualan sempat menurun di bulan Jun 2025 kemungkinan dipengaruhi oleh minimnya promosi atau ketersediaan stok yang rendah.\n",
    "\n",
    "Lonjakan signifikan pada Agustus 2025 mengindikasikan adanya promosi besar, diskon khusus, atau event yang berhasil menarik minat beli.\n",
    "\n",
    "Stabilitas penjualan di bulan-bulan lain menunjukkan pola yang relatif konsisten, sehingga intervensi strategis bisa difokuskan pada bulan dengan penurunan tajam."
   ]
  },
  {
   "cell_type": "markdown",
   "id": "7b166a31",
   "metadata": {},
   "source": [
    "## 2. Alasan Pengembalian Produk"
   ]
  },
  {
   "cell_type": "code",
   "execution_count": 50,
   "id": "dfd6952c",
   "metadata": {},
   "outputs": [
    {
     "data": {
      "image/png": "[encoded data removed]",
      "text/plain": [
       "<Figure size 900x500 with 1 Axes>"
      ]
     },
     "metadata": {},
     "output_type": "display_data"
    }
   ],
   "source": [
    "# Filter alasan pengembalian, hilangkan \"No Return\"\n",
    "reason_counts_filtered = (\n",
    "    df[df['return_reason'].str.lower() != 'no return']\n",
    "    ['return_reason']\n",
    "    .value_counts()\n",
    ")\n",
    "\n",
    "# Plot horizontal bar chart\n",
    "plt.figure(figsize=(9,5))\n",
    "plt.barh(reason_counts_filtered.index[::-1], reason_counts_filtered.values[::-1])\n",
    "plt.title('Alasan Pengembalian Produk ')\n",
    "plt.xlabel('Jumlah Kasus')\n",
    "plt.ylabel('Alasan')\n",
    "plt.show()"
   ]
  },
  {
   "cell_type": "markdown",
   "id": "85cde106",
   "metadata": {},
   "source": [
    "Sebagian besar pengembalian disebabkan oleh faktor subjektif dari pembeli, seperti Changed Mind dan Size Issue.  \n",
    "Alasan teknis seperti Damaged atau Wrong Item relatif lebih jarang terjadi."
   ]
  },
  {
   "cell_type": "markdown",
   "id": "4a9873f3",
   "metadata": {},
   "source": [
    "## 3. Jumlah Penjualan per Kategori"
   ]
  },
  {
   "cell_type": "code",
   "execution_count": 51,
   "id": "a5a03030",
   "metadata": {},
   "outputs": [
    {
     "data": {
      "image/png": "[encoded data removed]",
      "text/plain": [
       "<Figure size 900x500 with 1 Axes>"
      ]
     },
     "metadata": {},
     "output_type": "display_data"
    }
   ],
   "source": [
    "# Performa kategori (jumlah transaksi)\n",
    "category_sales = df.groupby('category')['product_id'].count().sort_values(ascending=True)\n",
    "\n",
    "plt.figure(figsize=(9,5))\n",
    "plt.barh(category_sales.index, category_sales.values)\n",
    "plt.title('Jumlah Penjualan per Kategori')\n",
    "plt.xlabel('Jumlah Transaksi')\n",
    "plt.ylabel('Kategori')\n",
    "plt.show()\n"
   ]
  },
  {
   "cell_type": "markdown",
   "id": "eb049c95",
   "metadata": {},
   "source": [
    "Accessories: Posisi teratas dengan jumlah transaksi terbanyak, menunjukkan daya tarik kuat di pasar.\n",
    "\n",
    "Bottoms, Shoes, Tops: Performa penjualan tinggi, layak menjadi prioritas pengelolaan stok dan kampanye pemasaran.\n",
    "\n",
    "Outerwear, Dresses: Posisi terbawah, perlu evaluasi apakah diperlukan perbaikan desain, strategi harga, atau peningkatan eksposur untuk mendorong penjualan."
   ]
  },
  {
   "cell_type": "markdown",
   "id": "65f9ecfd",
   "metadata": {},
   "source": [
    "## 4. Persentase Pengembalian per Brand"
   ]
  },
  {
   "cell_type": "code",
   "execution_count": 52,
   "id": "3e425bc3",
   "metadata": {},
   "outputs": [
    {
     "data": {
      "image/png": "[encoded data removed]",
      "text/plain": [
       "<Figure size 900x500 with 1 Axes>"
      ]
     },
     "metadata": {},
     "output_type": "display_data"
    }
   ],
   "source": [
    "# Return rate per brand tanpa filter minimal transaksi\n",
    "brand_return_rate_all = df.groupby('brand')['is_returned'].mean().sort_values()\n",
    "\n",
    "plt.figure(figsize=(9,5))\n",
    "plt.barh(brand_return_rate_all.index, brand_return_rate_all.values)\n",
    "plt.title('Persentase Pengembalian per Brand')\n",
    "plt.xlabel('Return Rate')\n",
    "plt.ylabel('Brand')\n",
    "plt.show()"
   ]
  },
  {
   "cell_type": "markdown",
   "id": "f39c0298",
   "metadata": {},
   "source": [
    "Ann Taylor memiliki tingkat pengembalian tertinggi (±20%), perlu evaluasi kualitas, deskripsi produk, atau kesesuaian ukuran.  \n",
    "Banana Republic dan Zara juga cukup tinggi, berada di atas 15%.  \n",
    "Mango memiliki tingkat pengembalian terendah di daftar ini, namun tetap di atas 10%, yang berarti semua brand perlu perhatian pada alasan pengembalian."
   ]
  },
  {
   "cell_type": "markdown",
   "id": "af6da7dc",
   "metadata": {},
   "source": [
    "## 5. Pola Musiman Penjualan x Pengembalian"
   ]
  },
  {
   "cell_type": "code",
   "execution_count": 53,
   "id": "f1a9032a",
   "metadata": {},
   "outputs": [
    {
     "data": {
      "image/png": "[encoded data removed]",
      "text/plain": [
       "<Figure size 900x500 with 1 Axes>"
      ]
     },
     "metadata": {},
     "output_type": "display_data"
    }
   ],
   "source": [
    "# Urutan musim yang benar\n",
    "order = ['Spring', 'Summer', 'Fall', 'Winter']\n",
    "\n",
    "# Pastikan kolom bersih\n",
    "df2 = df.copy()\n",
    "df2 = df2.dropna(subset=['season'])\n",
    "df2['is_returned'] = df2['is_returned'].astype(bool)\n",
    "\n",
    "# Hitung dan sejajarkan indeks\n",
    "season_sales = (\n",
    "    df2.groupby('season')['product_id']\n",
    "       .count()\n",
    "       .reindex(order, fill_value=0)\n",
    ")\n",
    "\n",
    "season_returns = (\n",
    "    df2.loc[df2['is_returned']]\n",
    "       .groupby('season')['product_id']\n",
    "       .count()\n",
    "       .reindex(order, fill_value=0)\n",
    ")\n",
    "\n",
    "# Plot\n",
    "plt.figure(figsize=(9,5))\n",
    "plt.plot(season_sales.index, season_sales.values, label='Penjualan')\n",
    "plt.plot(season_returns.index, season_returns.values, label='Pengembalian')\n",
    "plt.title('Pola Musiman Penjualan vs Pengembalian')\n",
    "plt.xlabel('Musim')\n",
    "plt.ylabel('Jumlah')\n",
    "plt.legend()\n",
    "plt.show()\n"
   ]
  },
  {
   "cell_type": "markdown",
   "id": "b7b522a1",
   "metadata": {},
   "source": [
    "Summer menunjukkan penjualan tertinggi sekaligus pengembalian terbanyak, menandakan tingginya aktivitas belanja namun juga potensi masalah kualitas atau ketidaksesuaian produk.\n",
    "\n",
    "Fall dan Spring memiliki tingkat penjualan stabil dengan pengembalian relatif rendah, cocok untuk menjaga kinerja penjualan secara konsisten.\n",
    "\n",
    "Winter memiliki penjualan terendah, sehingga bisa menjadi target kampanye untuk meningkatkan minat beli di musim ini.\n",
    "\n",
    "Musim dengan pengembalian rendah dapat dijadikan acuan strategi kualitas dan promosi yang efektif."
   ]
  },
  {
   "cell_type": "markdown",
   "id": "29f88236",
   "metadata": {},
   "source": [
    "## 6. Statistik Deskriptif"
   ]
  },
  {
   "cell_type": "code",
   "execution_count": 54,
   "id": "ba429857",
   "metadata": {},
   "outputs": [
    {
     "name": "stdout",
     "output_type": "stream",
     "text": [
      "Batas bawah (low): -52.185\n",
      "Batas atas (high): 211.89499999999998\n",
      "Jumlah outlier: 48\n"
     ]
    },
    {
     "data": {
      "text/html": [
       "<div>\n",
       "<style scoped>\n",
       "    .dataframe tbody tr th:only-of-type {\n",
       "        vertical-align: middle;\n",
       "    }\n",
       "\n",
       "    .dataframe tbody tr th {\n",
       "        vertical-align: top;\n",
       "    }\n",
       "\n",
       "    .dataframe thead th {\n",
       "        text-align: right;\n",
       "    }\n",
       "</style>\n",
       "<table border=\"1\" class=\"dataframe\">\n",
       "  <thead>\n",
       "    <tr style=\"text-align: right;\">\n",
       "      <th></th>\n",
       "      <th>product_id</th>\n",
       "      <th>category</th>\n",
       "      <th>brand</th>\n",
       "      <th>current_price</th>\n",
       "    </tr>\n",
       "  </thead>\n",
       "  <tbody>\n",
       "    <tr>\n",
       "      <th>9</th>\n",
       "      <td>FB000010</td>\n",
       "      <td>Outerwear</td>\n",
       "      <td>H&amp;M</td>\n",
       "      <td>221.33</td>\n",
       "    </tr>\n",
       "    <tr>\n",
       "      <th>51</th>\n",
       "      <td>FB000052</td>\n",
       "      <td>Outerwear</td>\n",
       "      <td>Forever21</td>\n",
       "      <td>222.26</td>\n",
       "    </tr>\n",
       "    <tr>\n",
       "      <th>61</th>\n",
       "      <td>FB000062</td>\n",
       "      <td>Outerwear</td>\n",
       "      <td>Gap</td>\n",
       "      <td>218.42</td>\n",
       "    </tr>\n",
       "    <tr>\n",
       "      <th>86</th>\n",
       "      <td>FB000087</td>\n",
       "      <td>Outerwear</td>\n",
       "      <td>Uniqlo</td>\n",
       "      <td>241.09</td>\n",
       "    </tr>\n",
       "    <tr>\n",
       "      <th>119</th>\n",
       "      <td>FB000120</td>\n",
       "      <td>Outerwear</td>\n",
       "      <td>Zara</td>\n",
       "      <td>248.58</td>\n",
       "    </tr>\n",
       "    <tr>\n",
       "      <th>222</th>\n",
       "      <td>FB000223</td>\n",
       "      <td>Outerwear</td>\n",
       "      <td>H&amp;M</td>\n",
       "      <td>246.65</td>\n",
       "    </tr>\n",
       "    <tr>\n",
       "      <th>248</th>\n",
       "      <td>FB000249</td>\n",
       "      <td>Outerwear</td>\n",
       "      <td>Zara</td>\n",
       "      <td>220.99</td>\n",
       "    </tr>\n",
       "    <tr>\n",
       "      <th>257</th>\n",
       "      <td>FB000258</td>\n",
       "      <td>Outerwear</td>\n",
       "      <td>H&amp;M</td>\n",
       "      <td>237.24</td>\n",
       "    </tr>\n",
       "    <tr>\n",
       "      <th>330</th>\n",
       "      <td>FB000331</td>\n",
       "      <td>Outerwear</td>\n",
       "      <td>Gap</td>\n",
       "      <td>232.19</td>\n",
       "    </tr>\n",
       "    <tr>\n",
       "      <th>404</th>\n",
       "      <td>FB000405</td>\n",
       "      <td>Outerwear</td>\n",
       "      <td>Uniqlo</td>\n",
       "      <td>217.34</td>\n",
       "    </tr>\n",
       "  </tbody>\n",
       "</table>\n",
       "</div>"
      ],
      "text/plain": [
       "    product_id   category      brand  current_price\n",
       "9     FB000010  Outerwear        H&M         221.33\n",
       "51    FB000052  Outerwear  Forever21         222.26\n",
       "61    FB000062  Outerwear        Gap         218.42\n",
       "86    FB000087  Outerwear     Uniqlo         241.09\n",
       "119   FB000120  Outerwear       Zara         248.58\n",
       "222   FB000223  Outerwear        H&M         246.65\n",
       "248   FB000249  Outerwear       Zara         220.99\n",
       "257   FB000258  Outerwear        H&M         237.24\n",
       "330   FB000331  Outerwear        Gap         232.19\n",
       "404   FB000405  Outerwear     Uniqlo         217.34"
      ]
     },
     "execution_count": 54,
     "metadata": {},
     "output_type": "execute_result"
    }
   ],
   "source": [
    "# Statistik deskriptif untuk current_price\n",
    "q1 = df['current_price'].quantile(0.25)\n",
    "q2 = df['current_price'].quantile(0.50)  # Median\n",
    "q3 = df['current_price'].quantile(0.75)\n",
    "\n",
    "# Hitung IQR\n",
    "iqr = q3 - q1\n",
    "\n",
    "# Hitung batas bawah & atas untuk outlier\n",
    "low = q1 - 1.5 * iqr\n",
    "high = q3 + 1.5 * iqr\n",
    "\n",
    "# Deteksi outlier\n",
    "outliers = df[(df['current_price'] < low) | (df['current_price'] > high)]\n",
    "\n",
    "# Output\n",
    "print(\"Batas bawah (low):\", low)\n",
    "print(\"Batas atas (high):\", high)\n",
    "print(\"Jumlah outlier:\", outliers.shape[0])\n",
    "\n",
    "# Tampilkan contoh outlier\n",
    "outliers[['product_id', 'category', 'brand', 'current_price']].head(10)"
   ]
  },
  {
   "cell_type": "markdown",
   "id": "5fa43e20",
   "metadata": {},
   "source": [
    "Dari analisis diatas, disimpulkan bahwa semua produk dengan harga di atas 211.895 masuk kategori outlier tinggi. Produk-produk dengan harga tinggi ini kemungkinan merupakan produk premium atau hasil kesalahan input harga.\n",
    "\n",
    "Tidak ada produk yang masuk kategori outlier rendah, karena batas bawahnya negatif (harga negatif tidak mungkin secara logis).\n",
    "\n"
   ]
  },
  {
   "cell_type": "markdown",
   "id": "cc53027b",
   "metadata": {},
   "source": [
    "## 7. Statistik Inferensial"
   ]
  },
  {
   "cell_type": "markdown",
   "id": "73f4780d",
   "metadata": {},
   "source": [
    "Hipotesis:\n",
    "- H0: Rata-rata `original_price` = `current_price`\n",
    "- H1: Rata-rata `original_price` ≠ `current_price`\n"
   ]
  },
  {
   "cell_type": "code",
   "execution_count": 78,
   "id": "8767a459",
   "metadata": {},
   "outputs": [
    {
     "name": "stdout",
     "output_type": "stream",
     "text": [
      "p value = 1.0086e-129\n",
      "Keputusan: Tolak H0 -> ada perbedaan signifikan\n"
     ]
    }
   ],
   "source": [
    "# Data\n",
    "x = df['original_price'].astype(float).values\n",
    "y = df['current_price'].astype(float).values\n",
    "\n",
    "# Uji t berpasangan\n",
    "t_stat, p_val = stats.ttest_rel(x, y)\n",
    "\n",
    "# Statistik ringkas\n",
    "\n",
    "alpha = 0.05\n",
    "n = len(x)\n",
    "\n",
    "# CI 95%\n",
    "se = np.std(x - y, ddof=1) / np.sqrt(n)\n",
    "t_crit = stats.t.ppf(1 - alpha/2, n - 1)\n",
    "ci = (mean_diff - t_crit * se, mean_diff + t_crit * se)\n",
    "\n",
    "# Output\n",
    "print(f\"p value = {p_val:.4e}\")\n",
    "print(\"Keputusan:\", \"Tolak H0 -> ada perbedaan signifikan\" if p_val < alpha else \"Gagal tolak H0 -> tidak ada perbedaan signifikan\")"
   ]
  },
  {
   "cell_type": "markdown",
   "id": "64d7cc9f",
   "metadata": {},
   "source": [
    "Dari paired t-test, terlihat markdown memang menurunkan harga secara signifikan. Penurunan harga bertujuan menaikkan penjualan, jadi kalau penjualan malah turun, kemungkinan penyebabnya bukan harga, tapi faktor lain seperti:\n",
    "\n",
    "1. Perubahan tren pasar atau preferensi konsumen.\n",
    "\n",
    "2. Persaingan yang lebih ketat dari produk yang sama.\n",
    "\n",
    "3. Saluran distribusi atau promosi yang kurang efektif."
   ]
  },
  {
   "cell_type": "markdown",
   "id": "2a938837",
   "metadata": {},
   "source": [
    "# VI. Conclusion"
   ]
  },
  {
   "cell_type": "markdown",
   "id": "8553ff7e",
   "metadata": {},
   "source": [
    "Dari analisis yang dilakukan maka dapat disimpulkan :\n",
    "\n",
    "1. Penurunan Penjualan\n",
    "\n",
    "- Kemungkinan dipengaruhi oleh perubahan tren, persaingan lebih ketat dari produk yang sama dan promosi yang kurang efektif\n",
    "\n",
    "2. Tingginya Return\n",
    "\n",
    "- Utamanya disebabkan masalah ukuran, ketidaksesuaian warna/item, dan kualitas.\n",
    "\n",
    "- Solusi: perbaikan panduan ukuran, kontrol kualitas, dan akurasi katalog.\n",
    "\n",
    "3. Performa Kategori\n",
    "\n",
    "- Kategori unggul layak prioritas stok & promosi.\n",
    "\n",
    "- Kategori lemah perlu evaluasi harga, desain, atau eksposur pasar.\n",
    "\n",
    "4. Perbedaan Return per Merek\n",
    "\n",
    "- Uji chi-square menunjukkan tidak ada perbedaan signifikan antar merek.\n",
    "\n",
    "- Merek dengan return tinggi tetap perlu kolaborasi vendor untuk perbaikan kualitas dan fit.\n",
    "\n",
    "5. Pengaruh Musiman\n",
    "\n",
    "- Musim puncak memengaruhi penjualan & return.\n",
    "\n",
    "- Persiapkan stok & layanan purna-jual di periode tersebut.\n",
    "\n",
    "6. Jumlah produk yang memiliki harga jauh di luar kisaran normal\n",
    "\n",
    "6. Strategi Optimalisasi\n",
    "\n",
    "- Sesuaikan assortment & stok dengan kategori dan musim unggul.\n",
    "\n",
    "- Optimalkan harga & diskon berdasar distribusi nilai transaksi.\n",
    "\n",
    "- Program kualitas & edukasi ukuran untuk menekan return.\n",
    "\n",
    "- Kampanye pemasaran diselaraskan dengan kalender musiman."
   ]
  }
 ],
 "metadata": {
  "kernelspec": {
   "display_name": "h8_env",
   "language": "python",
   "name": "python3"
  },
  "language_info": {
   "codemirror_mode": {
    "name": "ipython",
    "version": 3
   },
   "file_extension": ".py",
   "mimetype": "text/x-python",
   "name": "python",
   "nbconvert_exporter": "python",
   "pygments_lexer": "ipython3",
   "version": "3.9.23"
  }
 },
 "nbformat": 4,
 "nbformat_minor": 5
}
